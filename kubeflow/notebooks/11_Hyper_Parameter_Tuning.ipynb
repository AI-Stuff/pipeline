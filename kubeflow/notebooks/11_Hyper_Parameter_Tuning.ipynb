{
 "cells": [
  {
   "cell_type": "code",
   "execution_count": 1,
   "metadata": {},
   "outputs": [
    {
     "name": "stdout",
     "output_type": "stream",
     "text": [
      "studyjob.kubeflow.org/random-search-job created\r\n"
     ]
    }
   ],
   "source": [
    "!kubectl create -f hyperparameter-tuning/random-search-job.yaml"
   ]
  },
  {
   "cell_type": "code",
   "execution_count": 2,
   "metadata": {},
   "outputs": [
    {
     "name": "stdout",
     "output_type": "stream",
     "text": [
      "apiVersion: \"kubeflow.org/v1alpha1\"\r\n",
      "kind: StudyJob\r\n",
      "metadata:\r\n",
      "  namespace: kubeflow\r\n",
      "  labels:\r\n",
      "    controller-tools.k8s.io: \"1.0\"\r\n",
      "  name: random-search-job\r\n",
      "spec:\r\n",
      "  studyName: random-search-job\r\n",
      "  owner: crd\r\n",
      "  optimizationtype: maximize\r\n",
      "  objectivevaluename: Validation-accuracy\r\n",
      "  optimizationgoal: 0.99\r\n",
      "  requestcount: 4\r\n",
      "  metricsnames:\r\n",
      "    - accuracy\r\n",
      "  parameterconfigs:\r\n",
      "    - name: --lr\r\n",
      "      parametertype: double\r\n",
      "      feasible:\r\n",
      "        min: \"0.01\"\r\n",
      "        max: \"0.03\"\r\n",
      "    - name: --num-layers\r\n",
      "      parametertype: int\r\n",
      "      feasible:\r\n",
      "        min: \"2\"\r\n",
      "        max: \"5\"\r\n",
      "    - name: --optimizer\r\n",
      "      parametertype: categorical\r\n",
      "      feasible:\r\n",
      "        list:\r\n",
      "        - sgd\r\n",
      "        - adam\r\n",
      "        - ftrl\r\n",
      "  suggestionSpec:\r\n",
      "    suggestionAlgorithm: \"random\"\r\n",
      "    requestNumber: 3        \r\n",
      "  workerSpec:\r\n",
      "    goTemplate:\r\n",
      "        rawTemplate: |-\r\n",
      "          apiVersion: batch/v1\r\n",
      "          kind: Job\r\n",
      "          metadata:\r\n",
      "            name: {{.WorkerID}}\r\n",
      "            namespace: kubeflow\r\n",
      "          spec:\r\n",
      "            template:\r\n",
      "              spec:\r\n",
      "                containers:\r\n",
      "                - name: {{.WorkerID}}\r\n",
      "                  image: katib/mxnet-mnist-example\r\n",
      "                  command:\r\n",
      "                  - \"python\"\r\n",
      "                  - \"/mxnet/example/image-classification/train_mnist.py\"\r\n",
      "                  - \"--batch-size=64\"\r\n",
      "                  {{- with .HyperParameters}}\r\n",
      "                  {{- range .}}\r\n",
      "                  - \"{{.Name}}={{.Value}}\"\r\n",
      "                  {{- end}}\r\n",
      "                  {{- end}}\r\n",
      "                restartPolicy: Never\r\n"
     ]
    }
   ],
   "source": [
    "!cat hyperparameter-tuning/random-search-job.yaml"
   ]
  },
  {
   "cell_type": "code",
   "execution_count": 3,
   "metadata": {},
   "outputs": [
    {
     "name": "stdout",
     "output_type": "stream",
     "text": [
      "NAME                                                              READY   STATUS      RESTARTS   AGE\n",
      "airflow-86c8f64688-wr9xp                                          1/1     Running     0          18d\n",
      "alertmanager-deployment-86d58f9c95-947xq                          1/1     Running     0          18d\n",
      "ambassador-784d4d757-chxqz                                        1/1     Running     0          12d\n",
      "argo-ui-79bc9fd978-q6zn2                                          1/1     Running     0          12d\n",
      "centraldashboard-696b459cbf-qg7k2                                 1/1     Running     0          12d\n",
      "community-0                                                       1/1     Running     0          59m\n",
      "dash-7b48d8b579-4qp42                                             2/2     Running     0          18d\n",
      "etcd-55b4545687-hmhg5                                             1/1     Running     0          18d\n",
      "grafana-prom-deployment-59d54c9995-ldk9k                          1/1     Running     0          18d\n",
      "jupyter-web-app-6f946577d5-r9ksn                                  1/1     Running     0          12d\n",
      "katib-ui-54b8484d4b-cv2ff                                         1/1     Running     4          12d\n",
      "metacontroller-0                                                  1/1     Running     0          12d\n",
      "minio-5f6b9b5b7-l5lw2                                             1/1     Running     0          12d\n",
      "ml-pipeline-565f658579-wn7ps                                      1/1     Running     0          12d\n",
      "ml-pipeline-persistenceagent-c56c89b98-tqnkx                      1/1     Running     1          12d\n",
      "ml-pipeline-scheduledworkflow-855c759488-v5sd9                    1/1     Running     0          12d\n",
      "ml-pipeline-ui-5bd6b6dd4-9fwk9                                    1/1     Running     0          12d\n",
      "ml-pipeline-viewer-controller-deployment-5b997b657d-l8jkv         1/1     Running     0          12d\n",
      "mlflow-d65d787cf-7h7gx                                            1/1     Running     0          18d\n",
      "mysql-657f87857d-kgf48                                            1/1     Running     0          12d\n",
      "mysql-master-555564cd64-s2vkd                                     1/1     Running     0          18d\n",
      "notebooks-controller-794cd5fdd9-8h9dx                             1/1     Running     0          12d\n",
      "pachd-7f4958977d-9rcvl                                            1/1     Running     0          18d\n",
      "pipeline-build-v1-742kv                                           2/2     Running     0          14d\n",
      "pipeline-export-v1-fsp5p                                          2/2     Running     0          14d\n",
      "pipeline-pre-process-v1-k6lb6                                     2/2     Running     0          18d\n",
      "pipeline-split-v1-fvfzr                                           2/2     Running     0          14d\n",
      "pipeline-train-v1-8ng5d                                           2/2     Running     0          18d\n",
      "prometheus-deployment-6654dbff6c-c8m5t                            1/1     Running     0          18d\n",
      "prometheus-node-exporter-29qnw                                    1/1     Running     0          18d\n",
      "pytorch-distributed-mnist-master-0                                0/1     Completed   0          117m\n",
      "pytorch-distributed-mnist-worker-0                                0/1     Completed   0          116m\n",
      "pytorch-distributed-mnist-worker-1                                0/1     Completed   0          116m\n",
      "pytorch-operator-7c457c66fb-6bfml                                 1/1     Running     0          12d\n",
      "redis-master-c67856db-9qtdf                                       1/1     Running     0          18d\n",
      "seldon-operator-controller-manager-0                              1/1     Running     1          4d\n",
      "studyjob-controller-6965c8c85-tpzg6                               1/1     Running     0          12d\n",
      "taxi-cab-classification-model-04e60672-a21a-11e9-9fb7-4201nhv4d   1/1     Running     0          36h\n",
      "taxi-cab-classification-model-0af7dd74-9dc9-11e9-9fb7-4201xwrzq   1/1     Running     0          43h\n",
      "taxi-cab-classification-model-428299a0-9948-11e9-9fb7-4201kctdb   1/1     Running     0          12d\n",
      "taxi-cab-classification-model-56f9db2f-9948-11e9-9fb7-4201bpdkq   1/1     Running     0          12d\n",
      "taxi-cab-classification-model-5f8a260c-9dc4-11e9-9fb7-4201p2lj9   1/1     Running     0          7d\n",
      "tensorboard-5cd9974897-rjjvt                                      1/1     Running     0          12d\n",
      "tensorboard-9q25n                                                 1/1     Running     0          6d13h\n",
      "tensorboard-b9wm7                                                 1/1     Running     0          34h\n",
      "tensorboard-bdn67                                                 1/1     Running     0          22h\n",
      "tensorboard-dvw68                                                 1/1     Running     0          12d\n",
      "tensorboard-zx7t5                                                 1/1     Running     0          4d4h\n",
      "tf-job-dashboard-dcbbd9f88-pxd26                                  1/1     Running     0          12d\n",
      "tf-job-operator-899b8475f-bkk8k                                   1/1     Running     0          12d\n",
      "vizier-core-5c654c5666-bg7pl                                      1/1     Running     0          12d\n",
      "vizier-core-rest-7b9d769b9d-g2vnk                                 1/1     Running     0          12d\n",
      "vizier-db-68f977d674-qgj44                                        1/1     Running     0          12d\n",
      "vizier-suggestion-bayesianoptimization-867fdb7fb8-q9jzm           1/1     Running     0          12d\n",
      "vizier-suggestion-grid-fd5848d7d-r2dk6                            1/1     Running     0          12d\n",
      "vizier-suggestion-hyperband-756db8787d-vdggd                      1/1     Running     0          12d\n",
      "vizier-suggestion-random-675f7bfbc6-9z49b                         1/1     Running     0          12d\n",
      "workflow-controller-7875d846f-hndgn                               1/1     Running     0          12d\n"
     ]
    }
   ],
   "source": [
    "!kubectl get pod"
   ]
  },
  {
   "cell_type": "markdown",
   "metadata": {},
   "source": [
    "# Check out the Parameter Optimizations tab\n",
    "\n",
    "![Successful Hyperparameter Tuning](https://raw.githubusercontent.com/PipelineAI/site/master/assets/img/successful-hyperparameter-tuning.png)\n",
    "\n",
    "![Successful Hyperparameter Tuning](https://raw.githubusercontent.com/PipelineAI/site/master/assets/img/successful-hyperparameter-tuning-2.png)"
   ]
  },
  {
   "cell_type": "code",
   "execution_count": null,
   "metadata": {},
   "outputs": [],
   "source": []
  }
 ],
 "metadata": {
  "kernelspec": {
   "display_name": "Python 3",
   "language": "python",
   "name": "python3"
  },
  "language_info": {
   "codemirror_mode": {
    "name": "ipython",
    "version": 3
   },
   "file_extension": ".py",
   "mimetype": "text/x-python",
   "name": "python",
   "nbconvert_exporter": "python",
   "pygments_lexer": "ipython3",
   "version": "3.6.5"
  }
 },
 "nbformat": 4,
 "nbformat_minor": 2
}
